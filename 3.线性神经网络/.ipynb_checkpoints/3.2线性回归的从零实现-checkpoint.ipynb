{
 "cells": [
  {
   "cell_type": "markdown",
   "id": "0ed1c8dc-db9c-4dae-961b-2f4953b4ce71",
   "metadata": {},
   "source": [
    "### **3.2.1 生成数据集**"
   ]
  },
  {
   "cell_type": "code",
   "execution_count": 2,
   "id": "da913a61-ee58-417e-ae87-2c3548d8c66f",
   "metadata": {},
   "outputs": [],
   "source": [
    "%matplotlib inline\n",
    "import random\n",
    "import torch\n",
    "from d2l import torch as d2l"
   ]
  },
  {
   "cell_type": "code",
   "execution_count": 4,
   "id": "861b87fe-6b5a-450d-a45e-2f2fe44bccda",
   "metadata": {},
   "outputs": [],
   "source": [
    "def synthetic_data(w, b, num_examples):  #@save\n",
    "    \"\"\"生成y=Xw+b+噪声\"\"\"\n",
    "    X = torch.normal(0, 1, (num_examples, len(w)))\n",
    "    y = torch.matmul(X, w) + b\n",
    "    # print(X.shape, X)\n",
    "    # print(y.shape, y)\n",
    "    y += torch.normal(0, 0.01, y.shape)\n",
    "    return X, y.reshape((-1, 1))\n",
    "\n",
    "true_w = torch.tensor([2, -3.4])\n",
    "true_b = 4.2\n",
    "features, labels = synthetic_data(true_w, true_b, 1000)"
   ]
  },
  {
   "cell_type": "code",
   "execution_count": 16,
   "id": "f953354c-455d-4520-92e9-62fe8f67f76f",
   "metadata": {},
   "outputs": [],
   "source": [
    "# i = torch.ones((1000, 2), dtype=torch.float)\n",
    "# j = torch.tensor([2, 3], dtype=torch.float)\n",
    "# i.shape, j.shape\n",
    "# k = torch.matmul(i, j)\n",
    "# k.shape"
   ]
  },
  {
   "cell_type": "code",
   "execution_count": null,
   "id": "746d05dc-ed34-4cc6-ab07-bc234eb20724",
   "metadata": {},
   "outputs": [],
   "source": []
  }
 ],
 "metadata": {
  "kernelspec": {
   "display_name": "nlp",
   "language": "python",
   "name": "nlp"
  },
  "language_info": {
   "codemirror_mode": {
    "name": "ipython",
    "version": 3
   },
   "file_extension": ".py",
   "mimetype": "text/x-python",
   "name": "python",
   "nbconvert_exporter": "python",
   "pygments_lexer": "ipython3",
   "version": "3.8.15"
  }
 },
 "nbformat": 4,
 "nbformat_minor": 5
}
