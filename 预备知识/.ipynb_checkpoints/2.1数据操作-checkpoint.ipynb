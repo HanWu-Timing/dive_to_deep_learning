{
 "cells": [
  {
   "cell_type": "markdown",
   "id": "86984333-22f7-48e2-a55e-0211100a0d8b",
   "metadata": {},
   "source": [
    "## **2.1 数据操作**"
   ]
  },
  {
   "cell_type": "markdown",
   "id": "a0bf173a-2e42-4959-b986-ab44b0765bbc",
   "metadata": {
    "tags": []
   },
   "source": [
    "### **2.1.1 入门**"
   ]
  },
  {
   "cell_type": "code",
   "execution_count": 1,
   "id": "94712024-c5f4-4416-957f-e876c609c165",
   "metadata": {},
   "outputs": [],
   "source": [
    "import torch"
   ]
  },
  {
   "cell_type": "code",
   "execution_count": 2,
   "id": "b4a17e7f-9c08-4ea2-88b5-bf1f699d5d3c",
   "metadata": {},
   "outputs": [
    {
     "data": {
      "text/plain": [
       "tensor([ 0,  1,  2,  3,  4,  5,  6,  7,  8,  9, 10, 11])"
      ]
     },
     "execution_count": 2,
     "metadata": {},
     "output_type": "execute_result"
    }
   ],
   "source": [
    "x = torch.arange(12)\n",
    "x"
   ]
  },
  {
   "cell_type": "code",
   "execution_count": 3,
   "id": "637913d5-ba98-451e-b596-f416a88a5829",
   "metadata": {},
   "outputs": [
    {
     "data": {
      "text/plain": [
       "torch.Size([12])"
      ]
     },
     "execution_count": 3,
     "metadata": {},
     "output_type": "execute_result"
    }
   ],
   "source": [
    "x.shape"
   ]
  },
  {
   "cell_type": "code",
   "execution_count": 5,
   "id": "6eea3bf5-5be0-4245-8f0a-fd19b4e85557",
   "metadata": {},
   "outputs": [
    {
     "data": {
      "text/plain": [
       "12"
      ]
     },
     "execution_count": 5,
     "metadata": {},
     "output_type": "execute_result"
    }
   ],
   "source": [
    "x.numel()"
   ]
  },
  {
   "cell_type": "code",
   "execution_count": 6,
   "id": "1bb22575-c92e-4151-b558-67a516c559f6",
   "metadata": {},
   "outputs": [
    {
     "data": {
      "text/plain": [
       "tensor([[ 0,  1,  2,  3],\n",
       "        [ 4,  5,  6,  7],\n",
       "        [ 8,  9, 10, 11]])"
      ]
     },
     "execution_count": 6,
     "metadata": {},
     "output_type": "execute_result"
    }
   ],
   "source": [
    "x.reshape(-1, 4)"
   ]
  },
  {
   "cell_type": "code",
   "execution_count": 7,
   "id": "45f2a848-47ce-42f7-9818-3949a7b8812c",
   "metadata": {},
   "outputs": [
    {
     "data": {
      "text/plain": [
       "tensor([[ 0,  1,  2,  3],\n",
       "        [ 4,  5,  6,  7],\n",
       "        [ 8,  9, 10, 11]])"
      ]
     },
     "execution_count": 7,
     "metadata": {},
     "output_type": "execute_result"
    }
   ],
   "source": [
    "x.reshape(3, -1)"
   ]
  },
  {
   "cell_type": "markdown",
   "id": "fac7e29c-a7e2-4fd2-8e3e-fa8f7f07e0ea",
   "metadata": {},
   "source": [
    "从均值为0，标准差为1的标准正态分布中随机采样"
   ]
  },
  {
   "cell_type": "code",
   "execution_count": 8,
   "id": "1e43e584-dd1a-44f9-91de-dada70a0f479",
   "metadata": {},
   "outputs": [
    {
     "data": {
      "text/plain": [
       "tensor([[ 0.6060, -1.1523,  0.2574,  0.0080],\n",
       "        [-1.2195,  0.8532,  1.0319, -0.8333],\n",
       "        [ 0.7261,  1.8136,  1.3097, -0.8459]])"
      ]
     },
     "execution_count": 8,
     "metadata": {},
     "output_type": "execute_result"
    }
   ],
   "source": [
    "torch.randn(3, 4)"
   ]
  },
  {
   "cell_type": "markdown",
   "id": "523de5b7-f7cf-4d2c-ae4a-4df2b51f17a3",
   "metadata": {
    "tags": []
   },
   "source": [
    "### **2.1.2 运算符**"
   ]
  },
  {
   "cell_type": "code",
   "execution_count": 9,
   "id": "2a5ef40e-92c9-41e4-b474-d1a2aa127253",
   "metadata": {},
   "outputs": [
    {
     "data": {
      "text/plain": [
       "(tensor([ 2.,  4.,  8., 16.]),\n",
       " tensor([0.5000, 1.0000, 2.0000, 4.0000]),\n",
       " tensor([ 1.,  4., 16., 64.]))"
      ]
     },
     "execution_count": 9,
     "metadata": {},
     "output_type": "execute_result"
    }
   ],
   "source": [
    "x = torch.tensor([1.0, 2, 4, 8])\n",
    "y = torch.tensor([2, 2, 2, 2])\n",
    "x * y, x / y, x ** y  # **运算符是求幂运算"
   ]
  },
  {
   "cell_type": "markdown",
   "id": "27edbe11-dc0d-497c-95cd-f5b771650384",
   "metadata": {},
   "source": [
    "- **求e的x次幂**"
   ]
  },
  {
   "cell_type": "code",
   "execution_count": 10,
   "id": "9930882f-ce9f-4eec-8343-4f4469d9ceb2",
   "metadata": {},
   "outputs": [
    {
     "data": {
      "text/plain": [
       "tensor([2.7183e+00, 7.3891e+00, 5.4598e+01, 2.9810e+03])"
      ]
     },
     "execution_count": 10,
     "metadata": {},
     "output_type": "execute_result"
    }
   ],
   "source": [
    "torch.exp(x)"
   ]
  },
  {
   "cell_type": "markdown",
   "id": "67a9b7cf-e515-4bbb-b4d5-17ad357782eb",
   "metadata": {},
   "source": [
    "- **向量连接，0行1列**"
   ]
  },
  {
   "cell_type": "code",
   "execution_count": 12,
   "id": "415af674-603c-4dc2-92a3-5d08fbfd791f",
   "metadata": {},
   "outputs": [
    {
     "data": {
      "text/plain": [
       "(tensor([[ 0.,  1.,  2.,  3.],\n",
       "         [ 4.,  5.,  6.,  7.],\n",
       "         [ 8.,  9., 10., 11.],\n",
       "         [ 2.,  1.,  4.,  3.],\n",
       "         [ 1.,  2.,  3.,  4.],\n",
       "         [ 4.,  3.,  2.,  1.]]),\n",
       " tensor([[ 0.,  1.,  2.,  3.,  2.,  1.,  4.,  3.],\n",
       "         [ 4.,  5.,  6.,  7.,  1.,  2.,  3.,  4.],\n",
       "         [ 8.,  9., 10., 11.,  4.,  3.,  2.,  1.]]))"
      ]
     },
     "execution_count": 12,
     "metadata": {},
     "output_type": "execute_result"
    }
   ],
   "source": [
    "X = torch.arange(12, dtype=torch.float32).reshape((3, 4))\n",
    "Y = torch.tensor([[2.0, 1, 4, 3], [1, 2, 3, 4], [4, 3, 2, 1]])\n",
    "torch.cat((X, Y), dim=0), torch.cat((X, Y), dim=1)"
   ]
  },
  {
   "cell_type": "code",
   "execution_count": 22,
   "id": "73e107b7-e3f5-47ba-b3b3-35ec8c319ff6",
   "metadata": {},
   "outputs": [
    {
     "data": {
      "text/plain": [
       "tensor([[False,  True, False,  True],\n",
       "        [False, False, False, False],\n",
       "        [False, False, False, False]])"
      ]
     },
     "execution_count": 22,
     "metadata": {},
     "output_type": "execute_result"
    }
   ],
   "source": [
    "X == Y"
   ]
  },
  {
   "cell_type": "code",
   "execution_count": 14,
   "id": "ebcd4cdf-ed1c-41ae-b477-d54dcc3c7991",
   "metadata": {},
   "outputs": [
    {
     "data": {
      "text/plain": [
       "tensor(66.)"
      ]
     },
     "execution_count": 14,
     "metadata": {},
     "output_type": "execute_result"
    }
   ],
   "source": [
    "X.sum()"
   ]
  },
  {
   "cell_type": "markdown",
   "id": "b34e6cfe-af53-413f-aa35-dd4248486351",
   "metadata": {
    "tags": []
   },
   "source": [
    "### **2.1.3 广播机制**"
   ]
  },
  {
   "cell_type": "markdown",
   "id": "e9a74b8f-20c7-47cb-af39-26209bfd3c25",
   "metadata": {},
   "source": [
    "1. 通过适当复制元素来扩展一个或两个数组，以便在转换之后，两个张量具有相同的形状；\n",
    "2. 对生成的数组执行按元素操作。\n",
    "\n",
    "通常沿着数组中**长度为1**的轴进行广播"
   ]
  },
  {
   "cell_type": "code",
   "execution_count": 32,
   "id": "2b25bf8d-5e23-49e3-9435-f1419726f846",
   "metadata": {},
   "outputs": [
    {
     "data": {
      "text/plain": [
       "(tensor([[0],\n",
       "         [1],\n",
       "         [2]]),\n",
       " tensor([[0, 1, 2],\n",
       "         [3, 4, 5]]))"
      ]
     },
     "execution_count": 32,
     "metadata": {},
     "output_type": "execute_result"
    }
   ],
   "source": [
    "a = torch.arange(3).reshape((3, 1))\n",
    "b = torch.arange(2).reshape((1, 2))\n",
    "c = torch.arange(3).reshape((3, 1))\n",
    "d = torch.arange(6).reshape((2, 3))\n",
    "a, b\n",
    "c, d"
   ]
  },
  {
   "cell_type": "code",
   "execution_count": 35,
   "id": "cf4c3c72-b93a-491f-91da-373cae44adc7",
   "metadata": {},
   "outputs": [
    {
     "data": {
      "text/plain": [
       "tensor([[0, 1],\n",
       "        [1, 2],\n",
       "        [2, 3]])"
      ]
     },
     "execution_count": 35,
     "metadata": {},
     "output_type": "execute_result"
    }
   ],
   "source": [
    "a + b"
   ]
  },
  {
   "cell_type": "markdown",
   "id": "ed17a7c1-1c6c-415e-9982-d9ece856f610",
   "metadata": {
    "tags": []
   },
   "source": [
    "### **2.1.4 索引和切片**"
   ]
  },
  {
   "cell_type": "markdown",
   "id": "5898f0aa-1372-4691-9446-29f82dc068b5",
   "metadata": {},
   "source": [
    "\":\"代表沿轴1（列）的所有元素"
   ]
  },
  {
   "cell_type": "code",
   "execution_count": 36,
   "id": "bda5170e-a2af-44d8-a016-7db69a95ecda",
   "metadata": {},
   "outputs": [
    {
     "data": {
      "text/plain": [
       "tensor([[12., 12., 12., 12.],\n",
       "        [12., 12., 12., 12.],\n",
       "        [ 8.,  9., 10., 11.]])"
      ]
     },
     "execution_count": 36,
     "metadata": {},
     "output_type": "execute_result"
    }
   ],
   "source": [
    "X[0:2, :] = 12\n",
    "X"
   ]
  },
  {
   "cell_type": "markdown",
   "id": "ed071cc1-9bdf-4f67-8ba0-4e95d29a046f",
   "metadata": {
    "tags": []
   },
   "source": [
    "### **2.1.5 节省内存**"
   ]
  },
  {
   "cell_type": "markdown",
   "id": "cfd5d712-f6ee-4f75-a15e-693ffe8533c5",
   "metadata": {},
   "source": [
    "如过用Y= X + Y, 将取消引用Y指向的张量，而是指向新分配的内存处的张量。因为Python首先计算X+Y，再将结果存放在新内存，然后使Y指向内存中的新位置。"
   ]
  },
  {
   "cell_type": "code",
   "execution_count": 38,
   "id": "a3bfab59-ec85-482a-8480-eabcc4cabd49",
   "metadata": {},
   "outputs": [
    {
     "data": {
      "text/plain": [
       "False"
      ]
     },
     "execution_count": 38,
     "metadata": {},
     "output_type": "execute_result"
    }
   ],
   "source": [
    "before = id(Y)\n",
    "Y = X + Y\n",
    "before == id(Y)"
   ]
  },
  {
   "cell_type": "markdown",
   "id": "c21d6fb2-ec56-4926-b3df-393b113741a9",
   "metadata": {},
   "source": [
    "**这是不可取的，原因如下**\n",
    "1. 不要总是不必要的分配内存，在机器学习中可能有数百兆的参数，并且一秒内多次更新所有参数。通常情况下我们希望原地执行这些更新；\n",
    "2. 如果不原地更新，其他引用仍会指向旧的内存位置，这样我们的某些代码可能会无意中引用旧的参数。"
   ]
  },
  {
   "cell_type": "markdown",
   "id": "85a29cfe-1f4f-487e-b973-e5479084a10a",
   "metadata": {},
   "source": [
    "可以用切片法将操作结果分配给先前分配的数组，如Y[:] = \\<expression\\>。"
   ]
  },
  {
   "cell_type": "code",
   "execution_count": 39,
   "id": "ba02c006-4c85-41eb-9447-17fbb46d8c09",
   "metadata": {},
   "outputs": [
    {
     "name": "stdout",
     "output_type": "stream",
     "text": [
      "id(Z) 2103748476816\n",
      "id(Z) 2103748476816\n"
     ]
    }
   ],
   "source": [
    "Z = torch.zeros_like(Y)\n",
    "print('id(Z)', id(Z))\n",
    "Z[:] = X + Y\n",
    "print('id(Z)', id(Z))"
   ]
  },
  {
   "cell_type": "markdown",
   "id": "2059b821-50e5-4f79-8dc9-f9fbbc8d2e31",
   "metadata": {},
   "source": [
    "也可以用X += Y实现"
   ]
  },
  {
   "cell_type": "code",
   "execution_count": 40,
   "id": "04679d42-b5de-432a-ba32-c6e3c8756a1a",
   "metadata": {},
   "outputs": [
    {
     "data": {
      "text/plain": [
       "True"
      ]
     },
     "execution_count": 40,
     "metadata": {},
     "output_type": "execute_result"
    }
   ],
   "source": [
    "before = id(X)\n",
    "X += Y\n",
    "before == id(X)"
   ]
  },
  {
   "cell_type": "markdown",
   "id": "8cb1d4fa-0ac4-4f4a-b396-0ed5da0a6110",
   "metadata": {
    "tags": []
   },
   "source": [
    "### **2.1.2 运算符**"
   ]
  }
 ],
 "metadata": {
  "kernelspec": {
   "display_name": "nlp",
   "language": "python",
   "name": "nlp"
  },
  "language_info": {
   "codemirror_mode": {
    "name": "ipython",
    "version": 3
   },
   "file_extension": ".py",
   "mimetype": "text/x-python",
   "name": "python",
   "nbconvert_exporter": "python",
   "pygments_lexer": "ipython3",
   "version": "3.8.15"
  }
 },
 "nbformat": 4,
 "nbformat_minor": 5
}
