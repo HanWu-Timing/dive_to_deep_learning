{
 "cells": [
  {
   "cell_type": "markdown",
   "id": "6f06dd67-ef06-4c45-a59d-c1d08cb14bab",
   "metadata": {},
   "source": [
    "### **2.3.3 向量**"
   ]
  },
  {
   "cell_type": "markdown",
   "id": "e515a09e-9d59-4943-8744-479a2cf5284f",
   "metadata": {},
   "source": [
    "**矩阵的转置**"
   ]
  },
  {
   "cell_type": "code",
   "execution_count": 1,
   "id": "4bb3a987-48f2-4646-bd94-c539a81509cf",
   "metadata": {},
   "outputs": [
    {
     "data": {
      "text/plain": [
       "tensor([[True, True, True],\n",
       "        [True, True, True],\n",
       "        [True, True, True]])"
      ]
     },
     "execution_count": 1,
     "metadata": {},
     "output_type": "execute_result"
    }
   ],
   "source": [
    "import torch\n",
    "B = torch.tensor([[1, 2, 3], [2, 0, 4], [3, 4, 5]])\n",
    "B == B.T"
   ]
  },
  {
   "cell_type": "markdown",
   "id": "f5e25d60-84d0-452d-a7fe-faae58d84123",
   "metadata": {},
   "source": [
    "### **2.3.4 张量**"
   ]
  },
  {
   "cell_type": "code",
   "execution_count": 3,
   "id": "358f6bb7-64f2-4d96-9f39-705bb73b159c",
   "metadata": {},
   "outputs": [
    {
     "data": {
      "text/plain": [
       "tensor([[[ 0,  1,  2,  3],\n",
       "         [ 4,  5,  6,  7],\n",
       "         [ 8,  9, 10, 11]],\n",
       "\n",
       "        [[12, 13, 14, 15],\n",
       "         [16, 17, 18, 19],\n",
       "         [20, 21, 22, 23]]])"
      ]
     },
     "execution_count": 3,
     "metadata": {},
     "output_type": "execute_result"
    }
   ],
   "source": [
    "X= torch.arange(24).reshape(2, 3, 4)\n",
    "X"
   ]
  },
  {
   "cell_type": "markdown",
   "id": "ec292713-a988-42b5-a7a5-8d9a0702160f",
   "metadata": {},
   "source": [
    "### **2.3.5 张量算法的基本性质**"
   ]
  },
  {
   "cell_type": "code",
   "execution_count": 6,
   "id": "a367ccae-0619-4a2b-b3aa-f126079d981c",
   "metadata": {},
   "outputs": [
    {
     "data": {
      "text/plain": [
       "(tensor([[ 0.,  1.,  2.,  3.],\n",
       "         [ 4.,  5.,  6.,  7.],\n",
       "         [ 8.,  9., 10., 11.],\n",
       "         [12., 13., 14., 15.],\n",
       "         [16., 17., 18., 19.]]),\n",
       " tensor([[ 0.,  2.,  4.,  6.],\n",
       "         [ 8., 10., 12., 14.],\n",
       "         [16., 18., 20., 22.],\n",
       "         [24., 26., 28., 30.],\n",
       "         [32., 34., 36., 38.]]))"
      ]
     },
     "execution_count": 6,
     "metadata": {},
     "output_type": "execute_result"
    }
   ],
   "source": [
    "A = torch.arange(20, dtype=torch.float32).reshape(5, 4)\n",
    "B = A.clone() # 通过分配新内存，将A的一个副本分配给B\n",
    "A, A + B"
   ]
  },
  {
   "cell_type": "markdown",
   "id": "ec8856b8-c2a6-4be6-9d9e-80e420f67225",
   "metadata": {},
   "source": [
    "### **2.3.6 降维**"
   ]
  },
  {
   "cell_type": "code",
   "execution_count": 7,
   "id": "0ebec83f-d876-4522-8487-6ee8abcdd39e",
   "metadata": {},
   "outputs": [
    {
     "data": {
      "text/plain": [
       "(tensor([0., 1., 2., 3.]), tensor(6.))"
      ]
     },
     "execution_count": 7,
     "metadata": {},
     "output_type": "execute_result"
    }
   ],
   "source": [
    "x = torch.arange(4, dtype=torch.float32)\n",
    "x, x.sum()"
   ]
  },
  {
   "cell_type": "code",
   "execution_count": 8,
   "id": "aec4cf6c-1422-4963-96e7-7c1e56567ce7",
   "metadata": {},
   "outputs": [
    {
     "data": {
      "text/plain": [
       "(tensor([40., 45., 50., 55.]), torch.Size([4]))"
      ]
     },
     "execution_count": 8,
     "metadata": {},
     "output_type": "execute_result"
    }
   ],
   "source": [
    "A_sum_axis0 = A.sum(axis=0)\n",
    "A_sum_axis0, A_sum_axis0.shape"
   ]
  },
  {
   "cell_type": "code",
   "execution_count": 9,
   "id": "7579edb8-a9ff-4361-9b0a-95dcefc96505",
   "metadata": {},
   "outputs": [
    {
     "data": {
      "text/plain": [
       "(tensor([ 6., 22., 38., 54., 70.]), torch.Size([5]))"
      ]
     },
     "execution_count": 9,
     "metadata": {},
     "output_type": "execute_result"
    }
   ],
   "source": [
    "A_sum_axis1 = A.sum(axis=1)\n",
    "A_sum_axis1, A_sum_axis1.shape"
   ]
  },
  {
   "cell_type": "code",
   "execution_count": 12,
   "id": "d60c8d66-7023-4dd3-b8af-990ad38e4c83",
   "metadata": {},
   "outputs": [
    {
     "data": {
      "text/plain": [
       "(tensor(9.5000), tensor(9.5000))"
      ]
     },
     "execution_count": 12,
     "metadata": {},
     "output_type": "execute_result"
    }
   ],
   "source": [
    "A.mean(), A.sum() / A.numel()"
   ]
  },
  {
   "cell_type": "code",
   "execution_count": 13,
   "id": "70ffc2eb-b81c-49b2-9ac9-e37b4bba31f6",
   "metadata": {},
   "outputs": [
    {
     "data": {
      "text/plain": [
       "(tensor([ 8.,  9., 10., 11.]), tensor([ 8.,  9., 10., 11.]))"
      ]
     },
     "execution_count": 13,
     "metadata": {},
     "output_type": "execute_result"
    }
   ],
   "source": [
    "A.mean(axis=0), A.sum(axis=0) / A.shape[0]"
   ]
  },
  {
   "cell_type": "markdown",
   "id": "5ba95bc7-c8ea-424a-8430-d20b38aa3f10",
   "metadata": {},
   "source": [
    "#### **2.3.6.1 非降维求和**"
   ]
  },
  {
   "cell_type": "code",
   "execution_count": 19,
   "id": "ca237313-86f5-4f77-8957-b9b9dbd3a200",
   "metadata": {},
   "outputs": [
    {
     "data": {
      "text/plain": [
       "tensor([[ 6.],\n",
       "        [22.],\n",
       "        [38.],\n",
       "        [54.],\n",
       "        [70.]])"
      ]
     },
     "execution_count": 19,
     "metadata": {},
     "output_type": "execute_result"
    }
   ],
   "source": [
    "sum_A = A.sum(axis=1, keepdims=True)\n",
    "sum_A"
   ]
  },
  {
   "cell_type": "code",
   "execution_count": 17,
   "id": "b2b7f9da-bac0-48f7-94f7-3ebe8cca9bce",
   "metadata": {},
   "outputs": [
    {
     "data": {
      "text/plain": [
       "tensor([[0.0000, 0.1667, 0.3333, 0.5000],\n",
       "        [0.1818, 0.2273, 0.2727, 0.3182],\n",
       "        [0.2105, 0.2368, 0.2632, 0.2895],\n",
       "        [0.2222, 0.2407, 0.2593, 0.2778],\n",
       "        [0.2286, 0.2429, 0.2571, 0.2714]])"
      ]
     },
     "execution_count": 17,
     "metadata": {},
     "output_type": "execute_result"
    }
   ],
   "source": [
    "A / sum_A"
   ]
  },
  {
   "cell_type": "code",
   "execution_count": 24,
   "id": "7c3f90b2-18b7-4cc6-86db-b65908a88384",
   "metadata": {},
   "outputs": [
    {
     "data": {
      "text/plain": [
       "tensor([[ 0.,  1.,  2.,  3.],\n",
       "        [ 4.,  6.,  8., 10.],\n",
       "        [12., 15., 18., 21.],\n",
       "        [24., 28., 32., 36.],\n",
       "        [40., 45., 50., 55.]])"
      ]
     },
     "execution_count": 24,
     "metadata": {},
     "output_type": "execute_result"
    }
   ],
   "source": [
    "A.cumsum(axis=0)  # 按行求和，累计到下一行"
   ]
  },
  {
   "cell_type": "markdown",
   "id": "63fbb082-1cbc-4c0b-8c44-32bcd7f4663f",
   "metadata": {},
   "source": [
    "### **2.3.7 点积**"
   ]
  },
  {
   "cell_type": "code",
   "execution_count": 25,
   "id": "45ecc559-2d86-4917-862d-c13b89e08f9d",
   "metadata": {},
   "outputs": [
    {
     "data": {
      "text/plain": [
       "(tensor([0., 1., 2., 3.]), tensor([1., 1., 1., 1.]), tensor(6.))"
      ]
     },
     "execution_count": 25,
     "metadata": {},
     "output_type": "execute_result"
    }
   ],
   "source": [
    "y = torch.ones(4, dtype=torch.float32)\n",
    "x, y, torch.dot(x, y)"
   ]
  },
  {
   "cell_type": "code",
   "execution_count": 26,
   "id": "e18a06f7-785e-4cee-8607-cf6946550b81",
   "metadata": {},
   "outputs": [
    {
     "data": {
      "text/plain": [
       "tensor(6.)"
      ]
     },
     "execution_count": 26,
     "metadata": {},
     "output_type": "execute_result"
    }
   ],
   "source": [
    "torch.sum(x * y)"
   ]
  },
  {
   "cell_type": "markdown",
   "id": "924bdce3-95e0-4d46-b18f-40594f942a43",
   "metadata": {},
   "source": [
    "### **2.3.8 矩阵-向量积**"
   ]
  },
  {
   "cell_type": "code",
   "execution_count": 27,
   "id": "b38f524a-6cbe-466a-9495-680dc1b1fb12",
   "metadata": {},
   "outputs": [
    {
     "data": {
      "text/plain": [
       "(torch.Size([5, 4]), torch.Size([4]), tensor([ 14.,  38.,  62.,  86., 110.]))"
      ]
     },
     "execution_count": 27,
     "metadata": {},
     "output_type": "execute_result"
    }
   ],
   "source": [
    "A.shape, x.shape, torch.mv(A, x)"
   ]
  },
  {
   "cell_type": "markdown",
   "id": "6bfaa371-f58b-4c73-bf5d-577fe0b384a5",
   "metadata": {},
   "source": [
    "### **2.3.9 矩阵-矩阵乘法**"
   ]
  },
  {
   "cell_type": "code",
   "execution_count": 29,
   "id": "fbdcd297-6be4-4817-b3d4-606e5a1b9e8c",
   "metadata": {},
   "outputs": [
    {
     "data": {
      "text/plain": [
       "tensor([[ 6.,  6.,  6.],\n",
       "        [22., 22., 22.],\n",
       "        [38., 38., 38.],\n",
       "        [54., 54., 54.],\n",
       "        [70., 70., 70.]])"
      ]
     },
     "execution_count": 29,
     "metadata": {},
     "output_type": "execute_result"
    }
   ],
   "source": [
    "B = torch.ones(4, 3)\n",
    "torch.mm(A, B)"
   ]
  },
  {
   "cell_type": "markdown",
   "id": "e0d07267-8c84-4627-9322-e7d8d01987fe",
   "metadata": {},
   "source": [
    "### **2.3.10 范数**"
   ]
  },
  {
   "cell_type": "markdown",
   "id": "3959dbf3-e86b-4700-b4b9-8919facba8c0",
   "metadata": {},
   "source": [
    "- L2范数：平方和的平方根\n",
    "- L1范数：绝对值之和\n",
    "- Lp范数：$ ||X||_p = \\left(\\sum_{i=1}^{n}{|x_i|^p}\\right)^{1/p}$\n",
    "- Frobenius范数：$ ||X||_F = \\sqrt{\\sum_{i=1}^m{\\sum_{j=1}^{n}{x_{ij}^2}}} $"
   ]
  },
  {
   "cell_type": "code",
   "execution_count": 32,
   "id": "a168ff96-730f-4b1c-b0d3-a38126fcd78d",
   "metadata": {},
   "outputs": [
    {
     "data": {
      "text/plain": [
       "tensor(6.)"
      ]
     },
     "execution_count": 32,
     "metadata": {},
     "output_type": "execute_result"
    }
   ],
   "source": [
    "torch.norm(torch.ones((4, 9)))  # F范数"
   ]
  },
  {
   "cell_type": "code",
   "execution_count": null,
   "id": "a4f50f5b-648d-43b5-93ba-c7784e516501",
   "metadata": {},
   "outputs": [],
   "source": []
  }
 ],
 "metadata": {
  "kernelspec": {
   "display_name": "nlp",
   "language": "python",
   "name": "nlp"
  },
  "language_info": {
   "codemirror_mode": {
    "name": "ipython",
    "version": 3
   },
   "file_extension": ".py",
   "mimetype": "text/x-python",
   "name": "python",
   "nbconvert_exporter": "python",
   "pygments_lexer": "ipython3",
   "version": "3.8.15"
  }
 },
 "nbformat": 4,
 "nbformat_minor": 5
}
